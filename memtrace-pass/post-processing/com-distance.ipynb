{
 "cells": [
  {
   "cell_type": "code",
   "execution_count": 2,
   "metadata": {
    "collapsed": false,
    "deletable": true,
    "editable": true
   },
   "outputs": [
    {
     "name": "stdout",
     "output_type": "stream",
     "text": [
      "Populating the interactive namespace from numpy and matplotlib\n"
     ]
    }
   ],
   "source": [
    "import os\n",
    "import sys\n",
    "import struct\n",
    "import pprint\n",
    "import matplotlib\n",
    "import matplotlib.pyplot as plt\n",
    "import pickle\n",
    "import math\n",
    "import time\n",
    "import statistics\n",
    "import numpy as np\n",
    "from TraceInc import AutoDict\n",
    "%pylab inline\n",
    "\n",
    "type_enum = {\n",
    "   0 : \"Load\",\n",
    "   1 : \"Store\"\n",
    "}\n",
    "pp = pprint.PrettyPrinter(indent=2)"
   ]
  },
  {
   "cell_type": "code",
   "execution_count": 3,
   "metadata": {
    "collapsed": true,
    "deletable": true,
    "editable": true
   },
   "outputs": [],
   "source": [
    "files = ['bfs']"
   ]
  },
  {
   "cell_type": "code",
   "execution_count": 4,
   "metadata": {
    "collapsed": false,
    "deletable": true,
    "editable": true
   },
   "outputs": [],
   "source": [
    "def create_bins(tmap):\n",
    "    funnyMap = AutoDict()\n",
    "    for sk in tmap:\n",
    "        for cta in tmap[sk]:\n",
    "            for sit in tmap[sk][cta]:\n",
    "                for rk in tmap[sk][cta][sit]:\n",
    "                    for rcta in sorted(tmap[sk][cta][sit][rk]):\n",
    "                        for rit in tmap[sk][cta][sit][rk][rcta]:\n",
    "                            recv = tmap[sk][cta][sit][rk][rcta][rit]\n",
    "                            if not funnyMap[sit][rit]:\n",
    "                                funnyMap[sit][rit] = 0\n",
    "                            funnyMap[sit][rit] += recv[\"size\"]\n",
    "    #pp.pprint(funnyMap)\n",
    "    return funnyMap"
   ]
  },
  {
   "cell_type": "code",
   "execution_count": 7,
   "metadata": {
    "collapsed": false,
    "deletable": true,
    "editable": true,
    "scrolled": false
   },
   "outputs": [],
   "source": [
    "vols = {}\n",
    "f = {}\n",
    "for app in files:\n",
    "    tmap = pickle.load( open('../data/'+app+'.transfermap', \"rb\"))\n",
    "    f[app] = create_bins(tmap)\n"
   ]
  },
  {
   "cell_type": "code",
   "execution_count": 8,
   "metadata": {
    "collapsed": false,
    "deletable": true,
    "editable": true,
    "scrolled": false
   },
   "outputs": [],
   "source": [
    "app = 'bfs'\n",
    "ll = {}\n",
    "ll[1] = 0\n",
    "ll[2] = 0\n",
    "ll[3] = 0\n",
    "pylab.rcParams['figure.figsize'] = (10, 7)\n",
    "for sit in f[app]:\n",
    "    for rit in f[app][sit]:\n",
    "        d = rit-sit\n",
    "        ll[d] += f[app][sit][rit]"
   ]
  },
  {
   "cell_type": "code",
   "execution_count": 20,
   "metadata": {
    "collapsed": false,
    "deletable": true,
    "editable": true
   },
   "outputs": [
    {
     "name": "stdout",
     "output_type": "stream",
     "text": [
      "{1: 4001623, 2: 1763736, 3: 1765359}\n"
     ]
    },
    {
     "data": {
      "image/png": "[encoded data removed]",
      "text/plain": [
       "<matplotlib.figure.Figure at 0x7f4dd4afad68>"
      ]
     },
     "metadata": {},
     "output_type": "display_data"
    }
   ],
   "source": [
    "pp.pprint(ll)\n",
    "ind = np.arange(len(ll))\n",
    "pylab.rcParams['figure.figsize'] = (10, 7)\n",
    "plt.style.use('ggplot')\n",
    "matplotlib.rcParams.update({'font.size': 18})\n",
    "width = 0.4\n",
    "cmap = matplotlib.cm.get_cmap('tab20b')\n",
    "c = cmap.colors\n",
    "vols = [ll[1]/1024, ll[2]/1024, ll[3]/1024]\n",
    "plt.bar(ind, vols, color=c[1], width=width)\n",
    "plt.xticks(ind, [0,1,2])\n",
    "plt.ylabel('kBytes')\n",
    "plt.xlabel('Distance')\n",
    "filename = '../plots/distances.pdf'\n",
    "plt.savefig(filename, papertype='a4', bbox_inches='tight', orientation='landscape')\n",
    "plt.show()"
   ]
  }
 ],
 "metadata": {
  "kernelspec": {
   "display_name": "Python 3",
   "language": "python",
   "name": "python3"
  },
  "language_info": {
   "codemirror_mode": {
    "name": "ipython",
    "version": 3
   },
   "file_extension": ".py",
   "mimetype": "text/x-python",
   "name": "python",
   "nbconvert_exporter": "python",
   "pygments_lexer": "ipython3",
   "version": "3.5.4"
  }
 },
 "nbformat": 4,
 "nbformat_minor": 2
}
