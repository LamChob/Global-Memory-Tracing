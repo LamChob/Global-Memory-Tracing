{
 "cells": [
  {
   "cell_type": "code",
   "execution_count": 1,
   "metadata": {
    "collapsed": false,
    "deletable": true,
    "editable": true
   },
   "outputs": [
    {
     "name": "stdout",
     "output_type": "stream",
     "text": [
      "Populating the interactive namespace from numpy and matplotlib\n"
     ]
    }
   ],
   "source": [
    "import os\n",
    "import sys\n",
    "import struct\n",
    "import pprint\n",
    "import matplotlib\n",
    "import matplotlib.pyplot as plt\n",
    "import pickle\n",
    "import math\n",
    "import time\n",
    "import statistics\n",
    "import numpy as np\n",
    "from TraceInc import AutoDict\n",
    "%pylab inline\n",
    "\n",
    "type_enum = {\n",
    "   0 : \"Load\",\n",
    "   1 : \"Store\"\n",
    "}\n",
    "pp = pprint.PrettyPrinter(indent=2)"
   ]
  },
  {
   "cell_type": "code",
   "execution_count": 2,
   "metadata": {
    "collapsed": true,
    "deletable": true,
    "editable": true
   },
   "outputs": [],
   "source": [
    "files = ['hs2d', 'hs3d','hist', 'nbody', 'path', 'bfs']"
   ]
  },
  {
   "cell_type": "code",
   "execution_count": 3,
   "metadata": {
    "collapsed": false,
    "deletable": true,
    "editable": true
   },
   "outputs": [],
   "source": [
    "def create_bins(tmap):\n",
    "    histogram =[]\n",
    "    for sk in tmap:\n",
    "        for cta in tmap[sk]:\n",
    "            for sit in tmap[sk][cta]:\n",
    "                for rk in tmap[sk][cta][sit]:\n",
    "                    for rcta in sorted(tmap[sk][cta][sit][rk]):\n",
    "                        for rit in tmap[sk][cta][sit][rk][rcta]:\n",
    "                            recv = tmap[sk][cta][sit][rk][rcta][rit]\n",
    "                            histogram.append(recv[\"size\"])\n",
    "    #pp.pprint(funnyMap)\n",
    "    return histogram"
   ]
  },
  {
   "cell_type": "code",
   "execution_count": 4,
   "metadata": {
    "collapsed": false,
    "deletable": true,
    "editable": true,
    "scrolled": false
   },
   "outputs": [
    {
     "ename": "ValueError",
     "evalue": "too many values to unpack (expected 2)",
     "output_type": "error",
     "traceback": [
      "\u001b[0;31m---------------------------------------------------------------------------\u001b[0m",
      "\u001b[0;31mValueError\u001b[0m                                Traceback (most recent call last)",
      "\u001b[0;32m<ipython-input-4-87a1e7187d53>\u001b[0m in \u001b[0;36m<module>\u001b[0;34m()\u001b[0m\n\u001b[1;32m      7\u001b[0m \u001b[0;32mfor\u001b[0m \u001b[0mapp\u001b[0m \u001b[0;32min\u001b[0m \u001b[0mfiles\u001b[0m\u001b[0;34m:\u001b[0m\u001b[0;34m\u001b[0m\u001b[0m\n\u001b[1;32m      8\u001b[0m     \u001b[0mtmap\u001b[0m \u001b[0;34m=\u001b[0m \u001b[0mpickle\u001b[0m\u001b[0;34m.\u001b[0m\u001b[0mload\u001b[0m\u001b[0;34m(\u001b[0m \u001b[0mopen\u001b[0m\u001b[0;34m(\u001b[0m\u001b[0;34m'../data/'\u001b[0m\u001b[0;34m+\u001b[0m\u001b[0mapp\u001b[0m\u001b[0;34m+\u001b[0m\u001b[0;34m'.transfermap'\u001b[0m\u001b[0;34m,\u001b[0m \u001b[0;34m\"rb\"\u001b[0m\u001b[0;34m)\u001b[0m\u001b[0;34m)\u001b[0m\u001b[0;34m\u001b[0m\u001b[0m\n\u001b[0;32m----> 9\u001b[0;31m     \u001b[0mhistogram\u001b[0m\u001b[0;34m,\u001b[0m \u001b[0mf\u001b[0m\u001b[0;34m[\u001b[0m\u001b[0mapp\u001b[0m\u001b[0;34m]\u001b[0m \u001b[0;34m=\u001b[0m \u001b[0mcreate_bins\u001b[0m\u001b[0;34m(\u001b[0m\u001b[0mtmap\u001b[0m\u001b[0;34m)\u001b[0m\u001b[0;34m\u001b[0m\u001b[0m\n\u001b[0m\u001b[1;32m     10\u001b[0m     \u001b[0mbins\u001b[0m \u001b[0;34m=\u001b[0m \u001b[0mnp\u001b[0m\u001b[0;34m.\u001b[0m\u001b[0masarray\u001b[0m\u001b[0;34m(\u001b[0m\u001b[0mhistogram\u001b[0m\u001b[0;34m)\u001b[0m\u001b[0;34m\u001b[0m\u001b[0m\n\u001b[1;32m     11\u001b[0m     \u001b[0msort\u001b[0m \u001b[0;34m=\u001b[0m \u001b[0mnp\u001b[0m\u001b[0;34m.\u001b[0m\u001b[0msort\u001b[0m\u001b[0;34m(\u001b[0m\u001b[0mbins\u001b[0m\u001b[0;34m)\u001b[0m\u001b[0;34m\u001b[0m\u001b[0m\n",
      "\u001b[0;31mValueError\u001b[0m: too many values to unpack (expected 2)"
     ]
    }
   ],
   "source": [
    "vols = {}\n",
    "plt.style.use('ggplot')\n",
    "pylab.rcParams['figure.figsize'] = (18, 12)\n",
    "plt.style.use('ggplot')\n",
    "matplotlib.rcParams.update({'font.size': 24})\n",
    "f = {}\n",
    "for app in files:\n",
    "    tmap = pickle.load( open('../data/'+app+'.transfermap', \"rb\"))\n",
    "    histogram, f[app] = create_bins(tmap)\n",
    "    bins = np.asarray(histogram)\n",
    "    sort = np.sort(bins)\n",
    "    p = 1. * np.arange(len(bins))/(len(bins)-1)\n",
    "    plt.step(sort, p, label=app, alpha=0.75)\n",
    "\n",
    "plt.xlabel('transfer size[byte]')\n",
    "plt.ylabel('probability')\n",
    "plt.title('Transfer Size CDF')\n",
    "sfile = '../plots/combined-cfd.pdf'\n",
    "plt.xscale('log')\n",
    "plt.legend(loc=4)\n",
    "plt.savefig(sfile, papertype='a4', bbox_inches='tight', orientation='landscape')\n",
    "plt.show()"
   ]
  }
 ],
 "metadata": {
  "kernelspec": {
   "display_name": "Python 3",
   "language": "python",
   "name": "python3"
  },
  "language_info": {
   "codemirror_mode": {
    "name": "ipython",
    "version": 3
   },
   "file_extension": ".py",
   "mimetype": "text/x-python",
   "name": "python",
   "nbconvert_exporter": "python",
   "pygments_lexer": "ipython3",
   "version": "3.5.4"
  }
 },
 "nbformat": 4,
 "nbformat_minor": 2
}
